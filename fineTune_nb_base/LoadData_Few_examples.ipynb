{
 "cells": [
  {
   "cell_type": "markdown",
   "id": "816d72b0",
   "metadata": {},
   "source": [
    "So here we are loading data as only few examples. After loading Data from HuggingFace, add a split for Dataset as here in \"train\"."
   ]
  },
  {
   "cell_type": "code",
   "execution_count": null,
   "id": "403ca348",
   "metadata": {},
   "outputs": [],
   "source": [
    "from datasets import load_dataset\n",
    "\n",
    "dataset = load_dataset(\"taskydata/baize_chatbot\")\n",
    "\n",
    "# Subset the train split to exactly 10,000 examples and set N\n",
    "N = 2_000\n",
    "dataset[\"train\"] = dataset[\"train\"].shuffle(seed=42).select(range(N))\n",
    "\n",
    "\n",
    "print(dataset.column_names)"
   ]
  },
  {
   "cell_type": "markdown",
   "id": "78558523",
   "metadata": {},
   "source": [
    "Check------"
   ]
  },
  {
   "cell_type": "code",
   "execution_count": null,
   "id": "fb24bd55",
   "metadata": {},
   "outputs": [],
   "source": [
    "\n",
    "N = 2_000\n",
    "dataset[\"train\"] = dataset[\"train\"].shuffle(seed=42).select(range(N))\n",
    "\n",
    "print(f\"Using {len(dataset['train'])} examples for training.\")"
   ]
  },
  {
   "cell_type": "markdown",
   "id": "dac05bbf",
   "metadata": {},
   "source": [
    "In Training Arguements, add Split."
   ]
  },
  {
   "cell_type": "code",
   "execution_count": null,
   "id": "0348f3f0",
   "metadata": {},
   "outputs": [],
   "source": [
    "dataset[\"train\"] = dataset[\"train\"].shuffle(seed=42).select(range(2_000))\n",
    "N           = 2_000           # now only 2k samples"
   ]
  },
  {
   "cell_type": "markdown",
   "id": "184e5535",
   "metadata": {},
   "source": [
    "NOw All set\n"
   ]
  }
 ],
 "metadata": {
  "language_info": {
   "name": "python"
  }
 },
 "nbformat": 4,
 "nbformat_minor": 5
}
