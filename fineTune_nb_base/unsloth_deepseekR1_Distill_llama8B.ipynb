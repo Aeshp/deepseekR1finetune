{
 "cells": [
  {
   "cell_type": "markdown",
   "id": "cf0f1947",
   "metadata": {},
   "source": [
    "Hii , SO here we are Fine tuning the base 4-bit quantized model - unsloth/DeepSeek-R1-Distill-Llama-8B-unsloth-bnb-4bit"
   ]
  },
  {
   "cell_type": "code",
   "execution_count": null,
   "id": "98e03a7c",
   "metadata": {},
   "outputs": [],
   "source": [
    "!pip install unsloth"
   ]
  },
  {
   "cell_type": "code",
   "execution_count": null,
   "id": "5ec0f276",
   "metadata": {},
   "outputs": [],
   "source": [
    "\n",
    "\n",
    "!pip uninstall unsloth -y && pip install --upgrade --no-cache-dir --no-deps git+https://github.com/unslothai/unsloth.git"
   ]
  },
  {
   "cell_type": "code",
   "execution_count": null,
   "id": "e3ac5368",
   "metadata": {},
   "outputs": [],
   "source": [
    "\n",
    "\n",
    "from unsloth import FastLanguageModel\n",
    "import torch\n",
    "from peft import PeftModel\n",
    "\n",
    "model, tokenizer = FastLanguageModel.from_pretrained(\n",
    "    model_name = \"unsloth/DeepSeek-R1-Distill-Llama-8B-unsloth-bnb-4bit\",\n",
    "    max_seq_length = 2048,\n",
    "    dtype = None,\n",
    "    load_in_4bit = True,\n",
    "    device_map = \"auto\",\n",
    ")"
   ]
  },
  {
   "cell_type": "code",
   "execution_count": null,
   "id": "5d98d5a9",
   "metadata": {},
   "outputs": [],
   "source": [
    "model = FastLanguageModel.get_peft_model(\n",
    "    model,\n",
    "    r = 4,\n",
    "    target_modules = [\"q_proj\", \"k_proj\", \"v_proj\", \"o_proj\"],\n",
    "    lora_alpha = 16,\n",
    "    lora_dropout = 0,\n",
    "    bias = \"none\",\n",
    "    use_gradient_checkpointing = \"unsloth\",\n",
    "    random_state = 42,\n",
    "    use_rslora = False,\n",
    "    loftq_config = None,\n",
    ")\n",
    "\n",
    "from datasets import load_dataset\n",
    "\n",
    "dataset = load_dataset(\"taskydata/baize_chatbot\")\n",
    "\n",
    "print(dataset.column_names)\n",
    "\n",
    "print(dataset['train'][0])"
   ]
  },
  {
   "cell_type": "code",
   "execution_count": null,
   "id": "566ffcc3",
   "metadata": {},
   "outputs": [],
   "source": [
    "print(\"First 5 examples of the subsetted dataset:\")\n",
    "for i in range(min(50, len(dataset[\"train\"]))):\n",
    "    print(f\"Example {i}: {dataset['train'][i]}\")"
   ]
  },
  {
   "cell_type": "code",
   "execution_count": null,
   "id": "891dc247",
   "metadata": {},
   "outputs": [],
   "source": [
    "dataset['train'][0]"
   ]
  },
  {
   "cell_type": "code",
   "execution_count": null,
   "id": "bffc3fcd",
   "metadata": {},
   "outputs": [],
   "source": [
    "#adjust the dataset to match the chat template or change the chat template to match the dataset\n",
    "\n",
    "chat_template = \"\"\"Below are some instructions that describe some tasks. Write responses that appropriately complete each request.\n",
    "\n",
    "### Instruction:     \n",
    "{INPUT}\n",
    "\n",
    "### Response:\n",
    "{OUTPUT}\"\"\"\n",
    "\n",
    "def format_dataset_example(example):\n",
    "    \"\"\"Formats a single example from the dataset using the chat template.\"\"\"\n",
    "   \n",
    "    parts = example['input'].split('[|AI|]', 1) \n",
    "    if len(parts) > 1:\n",
    "        human_part = parts[0].replace('The conversation between human and AI assistant.\\n', '').strip()\n",
    "       \n",
    "        if human_part.endswith('[|Human|]'):\n",
    "             human_part = human_part[:-len('[|Human|]')].strip()\n",
    "\n",
    "        \n",
    "        ai_part = parts[1].strip()\n",
    "\n",
    "        \n",
    "        formatted_text = chat_template.format(INPUT=human_part, OUTPUT=ai_part)\n",
    "        example['text'] = formatted_text\n",
    "    else:\n",
    "    \n",
    "        example['text'] = \"\"\n",
    "    \n",
    "\n",
    "    return example\n",
    "\n",
    "dataset[\"train\"] = dataset[\"train\"].map(format_dataset_example, num_proc=2, remove_columns=['topic', 'input'])\n",
    "\n",
    "\n",
    "print(\"First formatted example:\")\n",
    "print(dataset['train'][0]['text'])\n",
    "\n",
    "print(\"Dataset column names after formatting:\")\n",
    "print(dataset.column_names)"
   ]
  },
  {
   "cell_type": "code",
   "execution_count": null,
   "id": "b9619f15",
   "metadata": {},
   "outputs": [],
   "source": [
    "!pip install tensorboard accelerate matplotlib"
   ]
  },
  {
   "cell_type": "code",
   "execution_count": null,
   "id": "20966b6d",
   "metadata": {},
   "outputs": [],
   "source": [
    "from transformers.integrations import TensorBoardCallback\n",
    "import matplotlib.pyplot as plt\n",
    "%load_ext tensorboard"
   ]
  },
  {
   "cell_type": "code",
   "execution_count": null,
   "id": "4185d19e",
   "metadata": {},
   "outputs": [],
   "source": [
    "import os\n",
    "import datetime\n",
    "\n",
    "\n",
    "timestamp = datetime.datetime.now().strftime(\"%Y%m%d-%H%M%S\")\n",
    "model_name_for_log = \"unsloth/DeepSeek-R1-Distill-Llama-8B-unsloth-bnb-4bit\" \n",
    "\n",
    "output_dir = \"outputs\"\n",
    "tensorboard_log_dir = os.path.join(output_dir, \"runs\", f\"{timestamp}_{model_name_for_log}\")\n",
    "checkpoint_dir = os.path.join(output_dir, \"checkpoints\")\n",
    "\n",
    "\n",
    "os.makedirs(tensorboard_log_dir, exist_ok=True)\n",
    "os.makedirs(checkpoint_dir, exist_ok=True)\n",
    "\n",
    "\n",
    "print(f\"TensorBoard log directory created: {tensorboard_log_dir}\")\n",
    "print(f\"Checkpoint directory created: {checkpoint_dir}\")"
   ]
  },
  {
   "cell_type": "code",
   "execution_count": null,
   "id": "5f2f9820",
   "metadata": {},
   "outputs": [],
   "source": [
    "%tensorboard --logdir {tensorboard_log_dir}"
   ]
  },
  {
   "cell_type": "code",
   "execution_count": null,
   "id": "35893c9c",
   "metadata": {},
   "outputs": [],
   "source": [
    "# Use the full train split for training\n",
    "print(f\"Using {len(dataset['train'])} examples for training.\")"
   ]
  },
  {
   "cell_type": "code",
   "execution_count": null,
   "id": "7b483d17",
   "metadata": {},
   "outputs": [],
   "source": [
    "from trl import SFTTrainer\n",
    "from transformers import TrainingArguments\n",
    "from unsloth import is_bfloat16_supported\n",
    "import math\n",
    "\n",
    "#Hey these hyparams are for large dataset, kindly adjust according to your storage and Ram.\n",
    "per_device_batch_size = 2 # Increase if your VRAM allows\n",
    "grad_accum            = 16 # Increase for a larger effective batch size (32)\n",
    "num_epochs            = 1  # Train for 1 or 2 epoch\n",
    "\n",
    "max_steps = math.ceil((len(dataset[\"train\"]) / (per_device_batch_size * grad_accum)) * num_epochs)\n",
    "\n",
    "trainer = SFTTrainer(\n",
    "    model            = model,\n",
    "    tokenizer        = tokenizer,\n",
    "    train_dataset    = dataset[\"train\"],\n",
    "    # eval_dataset   = dataset[\"test\"], # Add this for evaluation\n",
    "    # formatting_func= formatting_func,\n",
    "    max_seq_length   = 2048, # Increased for chat data, adjust based on VRAM\n",
    "    packing          = True, # and yes Set to False if needed\n",
    "    args = TrainingArguments(\n",
    "        per_device_train_batch_size = per_device_batch_size,\n",
    "        gradient_accumulation_steps = grad_accum,\n",
    "        warmup_ratio                = 0.05, \n",
    "        max_steps                   = max_steps,\n",
    "        learning_rate               = 2e-5, \n",
    "        fp16                        = not is_bfloat16_supported(),\n",
    "        bf16                        = is_bfloat16_supported(),\n",
    "        logging_steps               = 25, # Log progress more reasonably\n",
    "        optim                       = \"adamw_8bit\",\n",
    "        weight_decay                = 0.01,\n",
    "        lr_scheduler_type           = \"cosine\", \n",
    "        seed                        = 3407,\n",
    "        output_dir                  = \"outputs\",\n",
    "        report_to                   = \"tensorboard\",\n",
    "        save_strategy               = \"steps\",\n",
    "        save_steps                  = 500, # Save checkpoints periodically\n",
    "        # evaluation_strategy       = \"steps\", # Enable evaluation\n",
    "        # eval_steps                = 500,     # Evaluate every 500 steps\n",
    "    ),\n",
    ")"
   ]
  },
  {
   "cell_type": "code",
   "execution_count": null,
   "id": "eb8e1328",
   "metadata": {},
   "outputs": [],
   "source": [
    "\n",
    "trainer.args.num_train_epochs = 1\n",
    "trainer_stats = trainer.train()"
   ]
  },
  {
   "cell_type": "code",
   "execution_count": null,
   "id": "a8c2332e",
   "metadata": {},
   "outputs": [],
   "source": [
    "from unsloth.chat_templates import get_chat_template\n",
    "\n",
    "\n",
    "question = \"Hii How are You ?.\"\n",
    "\n",
    "formatted_input = chat_template.format(INPUT=question, OUTPUT=\"\")\n",
    "\n",
    "inputs = tokenizer(\n",
    "    [formatted_input],\n",
    "    return_tensors = \"pt\",\n",
    "    add_special_tokens = False, \n",
    ").to(\"cuda\")\n",
    "\n",
    "\n",
    "outputs = model.generate(\n",
    "    **inputs,\n",
    "    max_new_tokens = 35, \n",
    "    use_cache = True,\n",
    "    eos_token_id = tokenizer.encode(\"\\n\", add_special_tokens=True)[0], \n",
    ")\n",
    "\n",
    "\n",
    "response_ids = outputs[0][inputs[\"input_ids\"].shape[1]:]\n",
    "response = tokenizer.decode(response_ids, skip_special_tokens=True)\n",
    "\n",
    "\n",
    "print(\"Model Response:\")\n",
    "print(response)"
   ]
  },
  {
   "cell_type": "markdown",
   "id": "c5430ba1",
   "metadata": {},
   "source": [
    "After this Push your weights on Your model repo Using HuggingFAce login as see huggingface notebook.................."
   ]
  }
 ],
 "metadata": {
  "language_info": {
   "name": "python"
  }
 },
 "nbformat": 4,
 "nbformat_minor": 5
}
